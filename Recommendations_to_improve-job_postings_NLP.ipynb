{
 "cells": [
  {
   "cell_type": "markdown",
   "metadata": {},
   "source": [
    "Project Title :Recommendations for writing good job descriptions"
   ]
  },
  {
   "attachments": {},
   "cell_type": "markdown",
   "metadata": {},
   "source": [
    "The data comes from an old competition posted by City of Los Angeles on Kaggle. City of LA wants to improve the job bulletins that will fill all the open positions. The data consists of job postings in unstrucured text format.This project is focused on analyzing the current job postings using NLP and Text mining to gather valuable insights.\n",
    "\n",
    "__Problem Statement__ : To analyze existing job postings and suggest improvements to attract applicant pool that can help City of LA fill in all the open positions.\n",
    "\n",
    "__Analysis__: The analysis is carried out in two parts:\n",
    "\n",
    "* __Part 1__: Converting a folder full of plain text files in the dataframe format.\n",
    "* __Part 2__: Analyzing the job postings to gather insights and provide recommendations. The job postings are evaluated on three different aspects:\n",
    "    * a. Content - Readability, Similarity\n",
    "    * b. Format - Completeness, Word count, spell check, complexity of selection process\n",
    "    * c. Tone - Parts of Speech Tagging, Sentiment Analysis"
   ]
  },
  {
   "cell_type": "markdown",
   "metadata": {},
   "source": [
    "After completing the analysis, a cumulative score for each job posting has been computed based on the above three criteria. This cumulative score can be used to rate the postings as good or bad (need improvement)."
   ]
  },
  {
   "cell_type": "markdown",
   "metadata": {},
   "source": [
    "- __Data Source__: https://www.kaggle.com/c/data-science-for-good-city-of-los-angeles/data \n",
    "- __Libraries__: NLTK is the key library here. It has huge range of functions that help extract meaning from the unstructured text data"
   ]
  },
  {
   "cell_type": "markdown",
   "metadata": {},
   "source": [
    "__Part 1__: \n",
    "\n",
    "Converting text data into dataframe that consists of separate sections in the job postings including posting date, annual salary, requirements, application process, selection procedure etc. "
   ]
  },
  {
   "cell_type": "code",
   "execution_count": 100,
   "metadata": {},
   "outputs": [
    {
     "name": "stdout",
     "output_type": "stream",
     "text": [
      "Populating the interactive namespace from numpy and matplotlib\n"
     ]
    }
   ],
   "source": [
    "#Necessary Imports:\n",
    "%pylab inline\n",
    "import pandas as pd\n",
    "import numpy as np\n",
    "import re\n",
    "import os\n",
    "from textstat.textstat import textstatistics\n",
    "import textstat\n",
    "\n",
    "#NLP and Text Mining:\n",
    "import nltk\n",
    "from readability import Readability\n",
    "from nltk.sentiment.vader import SentimentIntensityAnalyzer \n",
    "from spellchecker import SpellChecker\n",
    "from nltk import word_tokenize\n",
    "from nltk import sent_tokenize\n",
    "\n",
    "#plot:\n",
    "import seaborn as sns\n",
    "import matplotlib.pyplot as plt"
   ]
  },
  {
   "cell_type": "code",
   "execution_count": 2,
   "metadata": {
    "collapsed": true
   },
   "outputs": [
    {
     "ename": "FileNotFoundError",
     "evalue": "[Errno 2] No such file or directory: '/Users/dakshatajain/Desktop/SCU/Sping/Assignments/Project/Job Bulletins/'",
     "output_type": "error",
     "traceback": [
      "\u001b[0;31m---------------------------------------------------------------------------\u001b[0m",
      "\u001b[0;31mFileNotFoundError\u001b[0m                         Traceback (most recent call last)",
      "\u001b[0;32m<ipython-input-2-0859c8244039>\u001b[0m in \u001b[0;36m<module>\u001b[0;34m\u001b[0m\n\u001b[0;32m----> 1\u001b[0;31m \u001b[0mbulletins\u001b[0m\u001b[0;34m=\u001b[0m\u001b[0mos\u001b[0m\u001b[0;34m.\u001b[0m\u001b[0mlistdir\u001b[0m\u001b[0;34m(\u001b[0m\u001b[0;34m\"/Users/dakshatajain/Desktop/SCU/Sping/Assignments/Project/Job Bulletins/\"\u001b[0m\u001b[0;34m)\u001b[0m\u001b[0;34m\u001b[0m\u001b[0;34m\u001b[0m\u001b[0m\n\u001b[0m",
      "\u001b[0;31mFileNotFoundError\u001b[0m: [Errno 2] No such file or directory: '/Users/dakshatajain/Desktop/SCU/Sping/Assignments/Project/Job Bulletins/'"
     ]
    }
   ],
   "source": [
    "#path = os.path.join(settings.Data_DIR,\"Job Bulletins\")\n",
    "#bulletins=os.listdir(path)"
   ]
  },
  {
   "cell_type": "code",
   "execution_count": 2,
   "metadata": {},
   "outputs": [],
   "source": [
    "bulletins = os.listdir(\"/Users/dakshatajain/Downloads/ML_Project_Recommendations for good job description-2/Job Bulletins\")"
   ]
  },
  {
   "cell_type": "code",
   "execution_count": 81,
   "metadata": {},
   "outputs": [],
   "source": [
    "path = \"/Users/dakshatajain/Downloads/ML_Project_Recommendations for good job description-2/Job Bulletins/\""
   ]
  },
  {
   "cell_type": "markdown",
   "metadata": {},
   "source": [
    "Converting to Dataframe:"
   ]
  },
  {
   "cell_type": "markdown",
   "metadata": {},
   "source": [
    "Based on initial analysis and eyeballing, an exhaustive list of titles is created which is further used to identify and create separate sections from a job posting. The following function reads each file in the job bulletins folder, assigns values pertaining to the title to each of the title in the list created and stores it in a dictionary. This dictionary is further used to create the dataframe."
   ]
  },
  {
   "cell_type": "code",
   "execution_count": 82,
   "metadata": {},
   "outputs": [],
   "source": [
    "#Define function to create a dictionary for each file.\n",
    "def createdict(lines):\n",
    "    canonical_equal = 'AN EQUAL EMPLOYEMENT OPPORTUNITY EMPLOYER'\n",
    "    title_renames = dict()\n",
    "    for k in ['REQUIREMENT/ MINIMUM QUALIFICATION',\n",
    "              'REQUIREMENT',\n",
    "              'REQUIREMENT/ MINIMUM QUALIFICATION',\n",
    "              'REQUIREMENT/MIMINUMUM QUALIFICATION',\n",
    "              'REQUIREMENT/MINIMUM QUALIFICAITON',\n",
    "              'REQUIREMENT/MINIMUM QUALIFICATION',\n",
    "              'REQUIREMENT/MINIMUM QUALIFICATIONS',\n",
    "              'REQUIREMENT/MINUMUM QUALIFICATION',\n",
    "              'REQUIREMENTS',\n",
    "              'REQUIREMENTS/ MINIMUM QUALIFICATIONS',\n",
    "              'REQUIREMENTS/MINIMUM QUALIFCATIONS',\n",
    "              'REQUIREMENTS/MINIMUM QUALIFICATIONS',\n",
    "              'REQUIREMENTS/MINIMUM REQUIREMENTS',\n",
    "              'REQUIREMENTS/MINUMUM QUALIFICATIONS']:\n",
    "        title_renames[k] = 'REQUIREMENTS'\n",
    "    for k in ['AN EQUAL EMPLOMENT OPPORTUNITY EMPLOYER',\n",
    "              'AN EQUAL EMPLOYEMENT OPPORTUNITY EMLOYER',\n",
    "              'AN EQUAL EMPLOYEMENT OPPORTUNITY EMPLOYER',\n",
    "              'AN EQUAL EMPLOYMENT OPPORTUINTY EMPLOYER',\n",
    "              'AN EQUAL EMPLOYMENT OPPORTUNITY',\n",
    "              'AN EQUAL EMPLOYMENT OPPORTUNITY EMPLOYEE',\n",
    "              'AN EQUAL EMPLOYMENT OPPORTUNITY EMPLOYER',\n",
    "              'AN EQUAL EMPLOYMENT OPPORTUNITY EMPOYER',\n",
    "              'AN EQUAL EMPLOYMENT OPPORUNITY EMPLOYER',\n",
    "              'AN EQUAL EMPLOYMENT OPPPORTUNITY EMPLOYER',\n",
    "              'AN EQUAL EMPLOYMENT OPPROTUNITY EMPLOYER',\n",
    "              'AN EQUAL OPPORTUNITY EMPLOYER']:\n",
    "        title_renames[k] = 'AN EQUAL EMPLOYEMENT OPPORTUNITY EMPLOYER'\n",
    "    for k in ['ANNUALSALARY','ANNUAL SALARY']:\n",
    "        title_renames[k] = 'ANNUAL SALARY'   \n",
    "    for k in ['SELECTION PROCEDURE','SELELCTION PROCESS','SELECTION PROCESS']:\n",
    "        title_renames[k]='SELECTION PROCEDURE'\n",
    "    for k in ['QUALICATIONS REVIEW', 'QUALIFICATIONS REVIEW']:\n",
    "        title_renames[k]='QUALIFICATIONS REVIEW'\n",
    "    for k in ['PROCESS NOTE','PROCESS NOTES']:\n",
    "        title_renames[k]='PROCESS NOTES'\n",
    "    for k in ['DUTIES', 'DUTIES AND RESPONSIBILITIES']:\n",
    "        title_renames[k]='DUTIES'\n",
    "    \n",
    "    # Skip empty lines in the beginning.\n",
    "    idx = 0\n",
    "    while len(lines[idx].rstrip(' \\n\\r\\t')) == 0:\n",
    "        idx = idx + 1\n",
    "    d = {}\n",
    "    d['TITLE'] = lines[idx].rstrip('\\r\\n\\t')\n",
    "    curr_title = ''\n",
    "    for l in lines[idx+1:]:\n",
    "        if 'Open Date' in l:\n",
    "            curr_title='OPEN DATE'\n",
    "            d[curr_title]=[]\n",
    "            d[curr_title].append(l.rstrip(' \\n\\t').split(':')[1])\n",
    "            \n",
    "        elif re.search('^[A-Z][A-Z /]+$', l):\n",
    "            l = l.rstrip('\\n\\t ')\n",
    "            curr_title = l\n",
    "            if curr_title in title_renames:\n",
    "                curr_title = title_renames[curr_title]\n",
    "            if curr_title not in d:\n",
    "                d[curr_title] = []\n",
    "        elif curr_title != '':\n",
    "            d[curr_title].append(l.strip(' \\n\\t'))\n",
    "    return d   \n",
    "\n",
    "#Define function to create dictionary for each files.\n",
    "def createlistofdict(path):\n",
    "    dicts = []\n",
    "    for f in os.listdir(path):\n",
    "        file = open(path + '/' + f,'r',encoding ='latin-1')\n",
    "        d = createdict(file.readlines()) #Call createdict function inside\n",
    "        dicts.append(d)\n",
    "    return dicts"
   ]
  },
  {
   "cell_type": "code",
   "execution_count": 83,
   "metadata": {},
   "outputs": [],
   "source": [
    "#Define dataframe from dictionary\n",
    "df = pd.DataFrame(createlistofdict(path)) \n",
    "\n",
    "# Extracting required columns:\n",
    "df = df[['TITLE','ANNUAL SALARY','OPEN DATE','APPLICATION DEADLINE','REQUIREMENTS', 'APPLICATION PROCESS','DUTIES','HOW TO APPLY'\n",
    "       ,'PROCESS NOTES', 'QUALIFICATIONS REVIEW',\n",
    "       'SELECTION PROCEDURE',\n",
    "       'WHERE TO APPLY','ADDITIONAL JOB INFORMATION']]"
   ]
  },
  {
   "cell_type": "code",
   "execution_count": 84,
   "metadata": {},
   "outputs": [],
   "source": [
    "# Merging similar columns:\n",
    "def clean_merge(df,*col_list,merged):\n",
    "    df[merged] = \"\"\n",
    "    for c in col_list:\n",
    "        for row in df.loc[df[c].isna(),c].index:\n",
    "            df.at[row,c] = []\n",
    "        df[merged] = df[merged].map(str) + df[c].map(str) "
   ]
  },
  {
   "cell_type": "code",
   "execution_count": 85,
   "metadata": {},
   "outputs": [
    {
     "data": {
      "text/html": [
       "<div>\n",
       "<style scoped>\n",
       "    .dataframe tbody tr th:only-of-type {\n",
       "        vertical-align: middle;\n",
       "    }\n",
       "\n",
       "    .dataframe tbody tr th {\n",
       "        vertical-align: top;\n",
       "    }\n",
       "\n",
       "    .dataframe thead th {\n",
       "        text-align: right;\n",
       "    }\n",
       "</style>\n",
       "<table border=\"1\" class=\"dataframe\">\n",
       "  <thead>\n",
       "    <tr style=\"text-align: right;\">\n",
       "      <th></th>\n",
       "      <th>TITLE</th>\n",
       "      <th>ANNUAL SALARY</th>\n",
       "      <th>OPEN DATE</th>\n",
       "      <th>APPLICATION DEADLINE</th>\n",
       "      <th>REQUIREMENTS</th>\n",
       "      <th>APPLICATION PROCESS</th>\n",
       "      <th>DUTIES</th>\n",
       "      <th>HOW TO APPLY</th>\n",
       "      <th>PROCESS NOTES</th>\n",
       "      <th>QUALIFICATIONS REVIEW</th>\n",
       "      <th>SELECTION PROCEDURE</th>\n",
       "      <th>WHERE TO APPLY</th>\n",
       "      <th>ADDITIONAL JOB INFORMATION</th>\n",
       "      <th>REQ_MERGED</th>\n",
       "      <th>APPLIC_MERGED</th>\n",
       "    </tr>\n",
       "  </thead>\n",
       "  <tbody>\n",
       "    <tr>\n",
       "      <th>0</th>\n",
       "      <td>SENIOR HOUSING INSPECTOR</td>\n",
       "      <td>[, $90,410 to $109,306, , NOTE:, , 1. Annual s...</td>\n",
       "      <td>[  04-27-18, (Exam Open to Current City Employ...</td>\n",
       "      <td>[, Applications must be received by THURSDAY, ...</td>\n",
       "      <td>[, Two years of full-time paid experience with...</td>\n",
       "      <td>[]</td>\n",
       "      <td>[, A Senior Housing Inspector supervises emplo...</td>\n",
       "      <td>[]</td>\n",
       "      <td>[, 1. Applicants who lack six months or less o...</td>\n",
       "      <td>NaN</td>\n",
       "      <td>[, Examination Weight:  Essay . . . . . . . . ...</td>\n",
       "      <td>[, Applications will only be accepted on-line....</td>\n",
       "      <td>NaN</td>\n",
       "      <td>['', 'Two years of full-time paid experience w...</td>\n",
       "      <td>[]['', 'Applications will only be accepted on-...</td>\n",
       "    </tr>\n",
       "    <tr>\n",
       "      <th>1</th>\n",
       "      <td>LEGISLATIVE ASSISTANT</td>\n",
       "      <td>[, $76,379 to $111,624 and $82,476 to $120,582...</td>\n",
       "      <td>[  09-18-15, (Exam Open to Current City Employ...</td>\n",
       "      <td>[, Applications must be received by THURSDAY, ...</td>\n",
       "      <td>[, One year of full-time paid experience in a ...</td>\n",
       "      <td>[]</td>\n",
       "      <td>[, A Legislative Assistant serves one or more ...</td>\n",
       "      <td>[]</td>\n",
       "      <td>[]</td>\n",
       "      <td>NaN</td>\n",
       "      <td>[, Examination Weights: Essay . . . . . . . . ...</td>\n",
       "      <td>[, Applications will only be accepted on-line....</td>\n",
       "      <td>NaN</td>\n",
       "      <td>['', 'One year of full-time paid experience in...</td>\n",
       "      <td>[]['', 'Applications will only be accepted on-...</td>\n",
       "    </tr>\n",
       "  </tbody>\n",
       "</table>\n",
       "</div>"
      ],
      "text/plain": [
       "                      TITLE  \\\n",
       "0  SENIOR HOUSING INSPECTOR   \n",
       "1     LEGISLATIVE ASSISTANT   \n",
       "\n",
       "                                       ANNUAL SALARY  \\\n",
       "0  [, $90,410 to $109,306, , NOTE:, , 1. Annual s...   \n",
       "1  [, $76,379 to $111,624 and $82,476 to $120,582...   \n",
       "\n",
       "                                           OPEN DATE  \\\n",
       "0  [  04-27-18, (Exam Open to Current City Employ...   \n",
       "1  [  09-18-15, (Exam Open to Current City Employ...   \n",
       "\n",
       "                                APPLICATION DEADLINE  \\\n",
       "0  [, Applications must be received by THURSDAY, ...   \n",
       "1  [, Applications must be received by THURSDAY, ...   \n",
       "\n",
       "                                        REQUIREMENTS APPLICATION PROCESS  \\\n",
       "0  [, Two years of full-time paid experience with...                  []   \n",
       "1  [, One year of full-time paid experience in a ...                  []   \n",
       "\n",
       "                                              DUTIES HOW TO APPLY  \\\n",
       "0  [, A Senior Housing Inspector supervises emplo...           []   \n",
       "1  [, A Legislative Assistant serves one or more ...           []   \n",
       "\n",
       "                                       PROCESS NOTES QUALIFICATIONS REVIEW  \\\n",
       "0  [, 1. Applicants who lack six months or less o...                   NaN   \n",
       "1                                                 []                   NaN   \n",
       "\n",
       "                                 SELECTION PROCEDURE  \\\n",
       "0  [, Examination Weight:  Essay . . . . . . . . ...   \n",
       "1  [, Examination Weights: Essay . . . . . . . . ...   \n",
       "\n",
       "                                      WHERE TO APPLY  \\\n",
       "0  [, Applications will only be accepted on-line....   \n",
       "1  [, Applications will only be accepted on-line....   \n",
       "\n",
       "  ADDITIONAL JOB INFORMATION  \\\n",
       "0                        NaN   \n",
       "1                        NaN   \n",
       "\n",
       "                                          REQ_MERGED  \\\n",
       "0  ['', 'Two years of full-time paid experience w...   \n",
       "1  ['', 'One year of full-time paid experience in...   \n",
       "\n",
       "                                       APPLIC_MERGED  \n",
       "0  []['', 'Applications will only be accepted on-...  \n",
       "1  []['', 'Applications will only be accepted on-...  "
      ]
     },
     "execution_count": 85,
     "metadata": {},
     "output_type": "execute_result"
    }
   ],
   "source": [
    "clean_merge(df,'REQUIREMENTS', 'PROCESS NOTES','DUTIES',merged = 'REQ_MERGED')\n",
    "clean_merge(df,'APPLICATION PROCESS', 'WHERE TO APPLY','HOW TO APPLY',merged = 'APPLIC_MERGED')\n",
    "df.head(2)"
   ]
  },
  {
   "cell_type": "code",
   "execution_count": 86,
   "metadata": {},
   "outputs": [
    {
     "data": {
      "text/plain": [
       "(684, 15)"
      ]
     },
     "execution_count": 86,
     "metadata": {},
     "output_type": "execute_result"
    }
   ],
   "source": [
    "df.shape"
   ]
  },
  {
   "cell_type": "markdown",
   "metadata": {},
   "source": [
    "The above dataframe consists of 684 rows i.e. 684 job postings and 15 columns which represent different sections in a job posting.\n",
    "Since we are focused on text data and not prediction, we will move ahead without further cleaning of numerical columns like annual salary, date etc. "
   ]
  },
  {
   "cell_type": "markdown",
   "metadata": {},
   "source": [
    "__Part 2:__ \n",
    "\n",
    "* a. Format: Format is one of the most important part in job postings.It can be evaluated based on following criterias:\n",
    "    * i. Completeness: Whether the job postings includes all necessary sections like annual salary, experience years required, qualifications review, selection procedure etc. \n",
    "    * ii. Complexity of selection process and word count: A [study] suggests that lengthy job postings and complex selection process might negatively impact the attention span/interest of the candidate. \n",
    "    * iii. Spell Check : In general spelling mistakes would make reading unpleasant in any situation.\n",
    "    \n",
    "[study]: https://power.atsondemand.com/is-attention-span-killing-your-candidate-flow/"
   ]
  },
  {
   "cell_type": "markdown",
   "metadata": {},
   "source": [
    "* __Format__:\n",
    "\n",
    "___Completeness:___ As mentioned earlier, we will check if important sections are included in the postings or not and accordingly an indicator is created for each of the mentioned sections."
   ]
  },
  {
   "cell_type": "markdown",
   "metadata": {},
   "source": [
    "__1. Experience Years mentioned in requirements or not?__"
   ]
  },
  {
   "cell_type": "code",
   "execution_count": 87,
   "metadata": {},
   "outputs": [],
   "source": [
    "#Function to check if a section is present or not and also create a frequency plot of the output:\n",
    "\n",
    "def present_not(df,col, pattern1,new_col,indicator=False,show=True):\n",
    "    temp = []\n",
    "    if indicator == False:\n",
    "        for index, row in df.iterrows():\n",
    "            a = ''.join(row[col]).lower()\n",
    "            if(re.search(pattern1,a)):\n",
    "                b = re.search(pattern1,a).group()\n",
    "                temp.append(1)\n",
    "            else:\n",
    "                temp.append(0)\n",
    "    else:\n",
    "        temp = (~df[col].isna()) * 1 \n",
    "        \n",
    "    df[new_col] = temp\n",
    "    \n",
    "    if show == True:\n",
    "        sns.catplot(data=df,x=new_col,kind = 'count')"
   ]
  },
  {
   "cell_type": "code",
   "execution_count": 88,
   "metadata": {},
   "outputs": [],
   "source": [
    "#Creating pattern for experience years:\n",
    "pattern1 = re.compile(r'(one|two|three|four|five|six|seven|eigth|nine|ten)(\\s-?)(years?)\\s(of\\sfull-time) | \\\n",
    "(one|two|three|four|five|six|seven|eigth|nine|ten)(\\s-?)(months?)\\s(of\\sfull-time)')"
   ]
  },
  {
   "cell_type": "code",
   "execution_count": 89,
   "metadata": {},
   "outputs": [
    {
     "data": {
      "image/png": "[encoded data removed]",
      "text/plain": [
       "<Figure size 360x360 with 1 Axes>"
      ]
     },
     "metadata": {
      "needs_background": "light"
     },
     "output_type": "display_data"
    }
   ],
   "source": [
    "#Applying function to create a new column:\n",
    "present_not(df,'REQUIREMENTS', pattern1,'REQ_EXP_YEARS')"
   ]
  },
  {
   "attachments": {},
   "cell_type": "markdown",
   "metadata": {},
   "source": [
    " __Observation__: Based on the above plot,it can be observed that 14% of the descriptions do not have number of experience years specified"
   ]
  },
  {
   "cell_type": "markdown",
   "metadata": {},
   "source": [
    "__2. Annual Salary Present or not?__"
   ]
  },
  {
   "cell_type": "code",
   "execution_count": 90,
   "metadata": {},
   "outputs": [
    {
     "data": {
      "image/png": "[encoded data removed]",
      "text/plain": [
       "<Figure size 360x360 with 1 Axes>"
      ]
     },
     "metadata": {
      "needs_background": "light"
     },
     "output_type": "display_data"
    }
   ],
   "source": [
    "present_not(df,'ANNUAL SALARY', pattern,'Annual_Salary_Present',indicator = True )"
   ]
  },
  {
   "attachments": {},
   "cell_type": "markdown",
   "metadata": {},
   "source": [
    "__Observation__: 2% of the descriptions do not have annual salary specified"
   ]
  },
  {
   "cell_type": "markdown",
   "metadata": {},
   "source": [
    "__4. Full Time / Part Time present or not ?__"
   ]
  },
  {
   "cell_type": "code",
   "execution_count": 91,
   "metadata": {},
   "outputs": [],
   "source": [
    "pattern1 = re.compile(r'full(-?)[ *]time')\n",
    "pattern2 = re.compile(r'part(-?)[ *]time')"
   ]
  },
  {
   "cell_type": "code",
   "execution_count": 92,
   "metadata": {},
   "outputs": [],
   "source": [
    "def full_part(df,col,pattern1,pattern2,new_col,show=True):\n",
    "    full=[]\n",
    "    for index, row in df.iterrows():\n",
    "        a = ''.join(row[col]).lower()\n",
    "        if(re.search(pattern1,a)):\n",
    "            full.append(1)\n",
    "        elif ((re.search(pattern2,a))):\n",
    "            full.append(1)\n",
    "        else:\n",
    "            full.append(0)\n",
    "    df[new_col] = full\n",
    "\n",
    "    if show == True:\n",
    "        sns.catplot(data=df,x=new_col,kind = 'count')"
   ]
  },
  {
   "cell_type": "code",
   "execution_count": 95,
   "metadata": {},
   "outputs": [
    {
     "data": {
      "text/plain": [
       "0    671\n",
       "1     13\n",
       "Name: FULL/PART, dtype: int64"
      ]
     },
     "execution_count": 95,
     "metadata": {},
     "output_type": "execute_result"
    },
    {
     "data": {
      "image/png": "[encoded data removed]",
      "text/plain": [
       "<Figure size 360x360 with 1 Axes>"
      ]
     },
     "metadata": {
      "needs_background": "light"
     },
     "output_type": "display_data"
    }
   ],
   "source": [
    "full_part(df,'REQUIREMENTS',pattern1,pattern2,'FULL/PART')\n",
    "df['FULL/PART'].value_counts()"
   ]
  },
  {
   "cell_type": "markdown",
   "metadata": {},
   "source": [
    "__Observation__: Only around 2% of the descriptions have Full/Part Time information present. This is really low and it indicates incomplete information and might result in ambiguity and/or attract incorrect pool of candidates"
   ]
  },
  {
   "cell_type": "markdown",
   "metadata": {},
   "source": [
    "__5. School Type and School present or not ?__"
   ]
  },
  {
   "cell_type": "code",
   "execution_count": 112,
   "metadata": {},
   "outputs": [],
   "source": [
    "def education_level(ls):\n",
    "    Temp = []\n",
    "    ls = str(ls)\n",
    "    if  re.search(r'(college or university)\\s',ls):\n",
    "        r = re.search(r'(college or university)\\s',ls).group()\n",
    "        Temp.append(r)\n",
    "\n",
    "    if  re.search(r'(high school)\\s',ls):\n",
    "        s = re.search(r'(high school)\\s',ls).group()\n",
    "        Temp.append(s)\n",
    "\n",
    "    if  re.search(r'(apprenticeship)\\s',ls):\n",
    "        m = re.search(r'(apprenticeship)\\s',ls).group()\n",
    "        Temp.append(m) \n",
    "\n",
    "    return Temp"
   ]
  },
  {
   "cell_type": "code",
   "execution_count": 113,
   "metadata": {},
   "outputs": [
    {
     "data": {
      "image/png": "[encoded data removed]",
      "text/plain": [
       "<Figure size 1440x360 with 1 Axes>"
      ]
     },
     "metadata": {
      "needs_background": "light"
     },
     "output_type": "display_data"
    }
   ],
   "source": [
    "df['SCHOOL_TYPE']  = df['REQ_MERGED'].apply(lambda x: education_level(x))\n",
    "df['SCHOOL_TYPE'] = df['SCHOOL_TYPE'].map(str)\n",
    "result = df.groupby([\"SCHOOL_TYPE\"])['TITLE'].aggregate('count').reset_index().sort_values('TITLE',ascending=False)\n",
    "ax=sns.catplot(data=result,x=\"SCHOOL_TYPE\",y='TITLE',aspect=4,kind='bar')\n",
    "ax.set(xlabel='')\n",
    "plt.show()"
   ]
  },
  {
   "cell_type": "code",
   "execution_count": 114,
   "metadata": {},
   "outputs": [],
   "source": [
    "df['SCHOOL_PRESENT']=(df['SCHOOL_TYPE']!='')*0"
   ]
  },
  {
   "cell_type": "markdown",
   "metadata": {},
   "source": [
    "___Complexity of Selection Process:___ Based on how number of rounds listed in the selection process, we define complexity as more the number of rounds higher is the complexity. The following function rates the complexity on a scale of 1-4 with 1 being least complex."
   ]
  },
  {
   "cell_type": "code",
   "execution_count": 96,
   "metadata": {},
   "outputs": [],
   "source": [
    "def complexity(df,col,new_col,show=True):\n",
    "    temp = []\n",
    "    for i in range(len(df)): \n",
    "        try:\n",
    "            record_list = []\n",
    "            for j in df[col][i]:\n",
    "                value = [z[0] for z in re.findall('([A-Z][a-z]+)((\\s\\.\\s)+)',j)]\n",
    "                if value != []:\n",
    "                    record_list.append(value)\n",
    "            temp.append(len(record_list))\n",
    "        except:\n",
    "            temp.append(float(nan))\n",
    "        \n",
    "    df[new_col] = temp\n",
    "\n",
    "    if show == True:\n",
    "        sns.catplot(data=df,x=new_col,kind = 'count')"
   ]
  },
  {
   "cell_type": "code",
   "execution_count": 97,
   "metadata": {},
   "outputs": [
    {
     "data": {
      "image/png": "[encoded data removed]",
      "text/plain": [
       "<Figure size 360x360 with 1 Axes>"
      ]
     },
     "metadata": {
      "needs_background": "light"
     },
     "output_type": "display_data"
    }
   ],
   "source": [
    "complexity(df,'SELECTION PROCEDURE','Selection_Process_Complexity',True)"
   ]
  },
  {
   "cell_type": "markdown",
   "metadata": {},
   "source": [
    "__Observation__: It can be observed that most of the applications are usually with lower complexity"
   ]
  },
  {
   "cell_type": "markdown",
   "metadata": {},
   "source": [
    "___WordCount:___ Based on a study, a job description should have no more than ~600-700 words for better readibility. In this section, we evaluate the total number of words in a posting, average sentence length and proportion of important sections like requirement and duties in the entire posting"
   ]
  },
  {
   "cell_type": "code",
   "execution_count": 98,
   "metadata": {},
   "outputs": [],
   "source": [
    "#Define function to calculate total number of words, sentences and average length per sentence for each document\n",
    "def word_count(bulletins,path):\n",
    "    s={}\n",
    "    for i in range(len(bulletins)):\n",
    "        with open(path+bulletins[i],encoding=\"ISO-8859-1\") as f:\n",
    "            idx = 0\n",
    "            lines = f.readlines()\n",
    "            while len(lines[idx].rstrip(' \\n\\r\\t')) == 0:\n",
    "                    idx = idx + 1\n",
    "            key = lines[idx].rstrip('\\r\\n\\t')\n",
    "            \n",
    "        with open(path +'/'+bulletins[i],encoding=\"ISO-8859-1\") as f:\n",
    "            a = f.read()\n",
    "            phrases = sent_tokenize(a)\n",
    "            sum_sent_length = 0\n",
    "            for p in phrases:\n",
    "                countwords = nltk.word_tokenize(p)\n",
    "                words_in_sentence = len(countwords)\n",
    "                sum_sent_length = sum_sent_length + words_in_sentence\n",
    "        Numberofsentences = len(phrases)\n",
    "        s[key]= [Numberofsentences,(sum_sent_length/Numberofsentences),sum_sent_length]\n",
    "    return s"
   ]
  },
  {
   "cell_type": "code",
   "execution_count": 103,
   "metadata": {},
   "outputs": [
    {
     "data": {
      "image/png": "[encoded data removed]",
      "text/plain": [
       "<Figure size 720x360 with 1 Axes>"
      ]
     },
     "metadata": {
      "needs_background": "light"
     },
     "output_type": "display_data"
    }
   ],
   "source": [
    "#Create dataframe from the word and sentence count dictionary\n",
    "df_doc_counts = pd.DataFrame.from_dict(word_count(bulletins,path),orient='index').reset_index()\n",
    "df_doc_counts.columns  = [\"TITLE\",\"SENTENCE_COUNT\", \"AVG_SENT_LENGTH\",\"WORD_COUNT\"]\n",
    "\n",
    "df_doc_counts['WORD_COUNT_bin'] = pd.cut(df_doc_counts['WORD_COUNT'],bins=[0, 600, 800, 1400, 1800, 2000, 3000, 4000])\n",
    "fig = sns.catplot(data=df_doc_counts,x=\"WORD_COUNT_bin\",kind=\"count\",aspect=2)\n",
    "fig.set(xlabel='Number of words', ylabel='Number of documents')\n",
    "plt.show()\n",
    "\n",
    "df['DocWordCountLabel'] = df_doc_counts['WORD_COUNT'].apply(lambda x: 0 if x > 700 else 1)\n",
    "df_doc_counts.drop(columns = ['WORD_COUNT_bin'],inplace = True)"
   ]
  },
  {
   "cell_type": "markdown",
   "metadata": {},
   "source": [
    "Sectionwise word count : Requirements, application process, selection procedure"
   ]
  },
  {
   "cell_type": "code",
   "execution_count": 104,
   "metadata": {},
   "outputs": [],
   "source": [
    "def countwords_sections(ls):\n",
    "    ls_cleaned = re.sub('[^a-zA-Z \\n\\.]','',str(ls))\n",
    "    words = ls_cleaned.split()\n",
    "    return len(words)\n",
    "\n",
    "def count(func,*cols):\n",
    "    for c in cols:\n",
    "        newcol = c+'_WORDCOUNT'\n",
    "        df[newcol] = df[c].apply(lambda x: countwords_sections(x))\n",
    "        \n",
    "count(countwords_sections,'REQ_MERGED','APPLIC_MERGED','SELECTION PROCEDURE')"
   ]
  },
  {
   "cell_type": "markdown",
   "metadata": {},
   "source": [
    "Proportion of job posting that consists of requirements and duties:"
   ]
  },
  {
   "cell_type": "code",
   "execution_count": 106,
   "metadata": {},
   "outputs": [
    {
     "data": {
      "image/png": "[encoded data removed]",
      "text/plain": [
       "<Figure size 1080x360 with 1 Axes>"
      ]
     },
     "metadata": {
      "needs_background": "light"
     },
     "output_type": "display_data"
    }
   ],
   "source": [
    "df_merged = pd.merge(df,df_doc_counts,on = \"TITLE\", how= 'left')\n",
    "df_merged['Prop_counts'] = (df_merged['REQ_MERGED_WORDCOUNT'] / df_merged['WORD_COUNT'])\n",
    "\n",
    "df_merged_1=df_merged.copy()\n",
    "df_merged_1['Prop_counts_binned'] = pd.cut(df_merged_1['Prop_counts'],bins=[0.1,0.2,0.3,0.4,0.5,0.6,0.7,0.8])\n",
    "sns.catplot(data=df_merged_1,x=\"Prop_counts_binned\",kind=\"count\",aspect=3)\n",
    "\n",
    "df_merged['Prop_counts_labels'] = (df_merged['Prop_counts'] > 0.25) * 1"
   ]
  },
  {
   "attachments": {},
   "cell_type": "markdown",
   "metadata": {},
   "source": [
    "__Observations__:\n",
    "\n",
    "1. The word count of job descriptions ranged from 800 – 4000 words.\n",
    "2. None of the job descriptions met the ideal number of words (~600-700) for better readability.\n",
    "3. The average proportion of word count of requirements and duties was only 18%. The threshold for classifying JDs has been set to 25% since these are the most important sections."
   ]
  },
  {
   "cell_type": "markdown",
   "metadata": {},
   "source": [
    "___SpellCheck:___ As mentioned previously, it is imperative to avoid any spelling mistakes in the postings. SpellChecker library has been used to identify the misspelled words and compute the total number of misspelled words in a posting."
   ]
  },
  {
   "cell_type": "code",
   "execution_count": 107,
   "metadata": {},
   "outputs": [],
   "source": [
    "def spellcheck(df,col,char,ignore):\n",
    "    spell = SpellChecker()\n",
    "    wordlist = ['cannot','http','https','fulfills','analyzes','recapitalization','citywide','analytics']\n",
    "    spell.word_frequency.load_words(wordlist)\n",
    "\n",
    "    misspelled = []\n",
    "    for index, row in df.iterrows():\n",
    "        text1 = row[col].strip(', ')\n",
    "        for c in char:\n",
    "            text1 = text1.replace(c,' ')\n",
    "        text1 = text1.split()\n",
    "\n",
    "        n = []\n",
    "        misspelled.append(spell.unknown(text1))\n",
    "        for d in misspelled:\n",
    "            if d != -1 and d not in ignore:\n",
    "                n.append(len(d))\n",
    "            else:\n",
    "                n.append(0)\n",
    "    return n "
   ]
  },
  {
   "cell_type": "code",
   "execution_count": 108,
   "metadata": {},
   "outputs": [],
   "source": [
    "char = [ ']','%','@','[','\\\"','/', '#',',','.', '-', ':', ';','\\'', '\\\"','(', ')','\\\\t','\\\\' ]\n",
    "ignore = ['PeopleTools','Javascript','JQuery','Websphere','Versata','ASP.Net','ColdFusion','C/C++','UDB']\n",
    "df['Req_merged_Spell'] = spellcheck(df,'REQ_MERGED',char,ignore)"
   ]
  },
  {
   "cell_type": "code",
   "execution_count": 109,
   "metadata": {},
   "outputs": [
    {
     "data": {
      "image/png": "[encoded data removed]",
      "text/plain": [
       "<Figure size 1080x360 with 1 Axes>"
      ]
     },
     "metadata": {
      "needs_background": "light"
     },
     "output_type": "display_data"
    }
   ],
   "source": [
    "fig = sns.catplot(data=df,x=\"Req_merged_Spell\",kind=\"count\",aspect=3, color = None)\n",
    "fig.set(xlabel='Number of Spelling Errors', ylabel='Number of documents')\n",
    "plt.show()"
   ]
  },
  {
   "attachments": {},
   "cell_type": "markdown",
   "metadata": {},
   "source": [
    "__Observations__: Less than 25 documents had no spelling errors. "
   ]
  },
  {
   "cell_type": "code",
   "execution_count": 116,
   "metadata": {},
   "outputs": [],
   "source": [
    "# Labelling documents with no spelling errors as a good job descriptions\n",
    "df['SpellErrorLabel'] = df['Req_merged_Spell'].apply(lambda x: 0 if x >1 else 1)"
   ]
  },
  {
   "attachments": {},
   "cell_type": "markdown",
   "metadata": {},
   "source": [
    "Part 2 :\n",
    "\n",
    "* b. Tone: Tone of the job postings can be analyzed based on following two parameters:\n",
    "    * i. Use of pronoun: Based on an [analysis], It is important in a job posting to directly speak to the reader. One of the indicators of this can be use of pronouns like “you” and “we.” \n",
    "    * ii. Sentiment Analysis: The general sentiment of the job postings should not be negative.\n",
    "    \n",
    "[analysis]: https://storage.googleapis.com/kaggle-forum-messageattachments/530963/13211/820tips20from2035020million20job20posts.pdf\n"
   ]
  },
  {
   "cell_type": "markdown",
   "metadata": {},
   "source": [
    "* __Tone__:\n",
    "\n",
    "___Use of Pronouns:___ In order to identify the parts of speech in a sentence, NLTK has been used. NLTK has the pos_tagger function that allows us to quickly tag parts of speech to a string."
   ]
  },
  {
   "cell_type": "code",
   "execution_count": 117,
   "metadata": {},
   "outputs": [],
   "source": [
    "def tokenize(col):\n",
    "    try:\n",
    "        grammar = r\"\"\"\n",
    "        NP:\n",
    "            # Pronouns\n",
    "            {<PRP.*>}\n",
    "        \"\"\"\n",
    "        chunker = nltk.RegexpParser(grammar)\n",
    "        ne = []\n",
    "        tokens=nltk.word_tokenize(col)\n",
    "        fil_tokens=[]\n",
    "        for token in tokens:\n",
    "            if token != '':\n",
    "                fil_tokens.append(token)\n",
    "        chunk = chunker.parse(nltk.pos_tag(fil_tokens))\n",
    "        for tree in chunk.subtrees(filter=lambda t: t.label() == 'NP'):\n",
    "            ne.append(' '.join([child[0] for child in tree.leaves()]))\n",
    "    except:\n",
    "        print('This Section is Blank')\n",
    "    return ne\n",
    "\n",
    "df['REQ_Pronoun']=df['REQ_MERGED'].apply(lambda x: tokenize(str(x)))"
   ]
  },
  {
   "cell_type": "code",
   "execution_count": 118,
   "metadata": {},
   "outputs": [],
   "source": [
    "pronouns=['you','your','yours','our','we','you\\'ll']\n",
    "def check_pronoun(ls):\n",
    "    count=0\n",
    "    for element in ls:\n",
    "        element=element.lower()\n",
    "        if element in pronouns:\n",
    "            count=count+1\n",
    "    return count\n",
    "\n",
    "df['REQ_Pronoun_Count']=df['REQ_Pronoun'].apply(check_pronoun)"
   ]
  },
  {
   "cell_type": "code",
   "execution_count": 119,
   "metadata": {},
   "outputs": [
    {
     "data": {
      "text/plain": [
       "<seaborn.axisgrid.FacetGrid at 0x1a27598358>"
      ]
     },
     "execution_count": 119,
     "metadata": {},
     "output_type": "execute_result"
    },
    {
     "data": {
      "image/png": "[encoded data removed]",
      "text/plain": [
       "<Figure size 360x360 with 1 Axes>"
      ]
     },
     "metadata": {
      "needs_background": "light"
     },
     "output_type": "display_data"
    }
   ],
   "source": [
    "df['REQ_Pronoun_Exists']=(df.REQ_Pronoun_Count > 0 ) * 1\n",
    "df['REQ_Pronoun_Exists'].value_counts()\n",
    "\n",
    "sns.catplot(data=df,x='REQ_Pronoun_Exists',kind='count')"
   ]
  },
  {
   "cell_type": "markdown",
   "metadata": {},
   "source": [
    "Comparing with the number of pronouns used in job description of companies like google and facebook:"
   ]
  },
  {
   "cell_type": "code",
   "execution_count": 120,
   "metadata": {},
   "outputs": [],
   "source": [
    "JD1=\"Google's software engineers develop the next-generation technologies that change how billions of users connect, explore, and interact with information and one another. Our products need to handle information at massive scale, and extend well beyond web search. We're looking for engineers who bring fresh ideas from all areas, including information retrieval, distributed computing, large-scale system design, networking and data storage, security, artificial intelligence, natural language processing, UI design and mobile; the list goes on and is growing every day. As a software engineer, you will work on a specific project critical to Google’s needs with opportunities to switch teams and projects as you and our fast-paced business grow and evolve. We need our engineers to be versatile, display leadership qualities and be enthusiastic to take on new problems across the full-stack as we continue to push technology forward. With your technical expertise you will manage project priorities, deadlines, and deliverables. You will design, develop, test, deploy, maintain, and enhance software solutions. As a Software Engineer working on Android mobile applications, you’ll drive new innovations and build beautiful user experiences. You’ll work with mobile developers and resources to drive the next generation of apps at Google. You will develop applications primarily in Java and using the Android Software Development Kit (SDK). You might design and develop open-source Android applications that are part of the Android Open Source Project (AOSP) or closed-source Google applications that are the interface to Google services on Android. Google is and always will be an engineering company. We hire people with a broad set of technical skills who are ready to take on some of technology's greatest challenges and make an impact on millions, if not billions, of users. At Google, engineers not only revolutionize search, they routinely work on massive scalability and storage solutions, large-scale applications and entirely new platforms for developers around the world. From Google Ads to Chrome, Android to YouTube, Social to Local, Google engineers are changing the world one technological achievement after another.\"\n",
    "JD2=\"The Strategic Vendor Management group within Corporate Engineering is responsible for managing vendors and contingent workforce for our business partners. You'll lead projects for the Vendor Operations Program Office team, setting priorities, leading cross-functional teams, ensuring success metrics are informing future efforts, and quickly fine tuning the program as needed. You'll use your technical and domain experience to manage a team of suppliers to deliver professional services to the business. You'll drive roadmap definition, help define the scope of those projects and partner across teams to address business pain points and ensure timely and cost-effective solution implementations. You have the ability and interest to work on a range of different types of projects and business processes and a background that demonstrates this ability. You have a solid technical foundation in program management and the talent and aptitude to learn new technologies and lead a variety of projects and teams across the organization. Behind everything our users see online is the architecture built by the Technical Infrastructure team to keep it running. From developing and maintaining our data centers to building the next generation of Google platforms, we make Google's product portfolio possible. We're proud to be our engineers' engineers and love voiding warranties by taking things apart so we can rebuild them. We're always on call to keep our networks up and running, ensuring our users have the best and fastest experience possible.\"\n",
    "JD3=\"Facebook's mission is to give people the power to build community and bring the world closer together. Through our family of apps and services, we're building a different kind of company that connects billions of people around the world, gives them ways to share what matters most to them, and helps bring people closer together. Whether we're creating new products or helping a small business expand its reach, people at Facebook are builders at heart. Our global teams are constantly iterating, solving problems, and working together to empower people around the world to build community and connect in meaningful ways. Together, we can help people build stronger communities — we're just getting started. Facebook is one of the world's largest content platforms and plays a critical role in helping people discover content, creators, and communities they love. We have everything from new interactive videos to exciting ways game streamers connect with their fans. Your role will be as a trusted advisor to a cross-functional organization launching great services, including white boarding a new feature, developing a creative video series, or assisting with content integrity issues that impact our users on a worldwide scale in a dynamic regulatory environment.\"\n",
    "JD4=\"Facebook's mission is to give people the power to build community and bring the world closer together. Through our family of apps and services, we're building a different kind of company that connects billions of people around the world, gives them ways to share what matters most to them, and helps bring people closer together. Whether we're creating new products or helping a small business expand its reach, people at Facebook are builders at heart. Our global teams are constantly iterating, solving problems, and working together to empower people around the world to build community and connect in meaningful ways. Together, we can help people build stronger communities — we're just getting started. We're looking for Data Scientists to work on our core and business products (ex. Instagram, Messaging, Growth, Engagement, Ads) to help shape the future of what we build at Facebook. You will enjoy working with one of the strongest data sets in the world, cutting edge technology, and the ability to see your insights turned into real products on a regular basis. The perfect candidate will have a background in a quantitative or technical field, will have experience working with large data sets, and will have some experience in data-driven decision making. You are focused on results, a self-starter, and have demonstrated success in using analytics to drive the understanding, growth, and success of a product. This position is based full-time in our Menlo Park, CA office.\"\n"
   ]
  },
  {
   "cell_type": "code",
   "execution_count": 121,
   "metadata": {},
   "outputs": [],
   "source": [
    "#Dataframe of job descriptions and applying the pronoun function:\n",
    "x=np.array([JD1,JD2,JD3,JD4])\n",
    "id=np.array([1,2,3,4])\n",
    "jd=pd.concat([pd.DataFrame({'id':id, 'desc':x}, columns=['id','desc'])])"
   ]
  },
  {
   "cell_type": "code",
   "execution_count": 122,
   "metadata": {},
   "outputs": [
    {
     "data": {
      "text/html": [
       "<div>\n",
       "<style scoped>\n",
       "    .dataframe tbody tr th:only-of-type {\n",
       "        vertical-align: middle;\n",
       "    }\n",
       "\n",
       "    .dataframe tbody tr th {\n",
       "        vertical-align: top;\n",
       "    }\n",
       "\n",
       "    .dataframe thead th {\n",
       "        text-align: right;\n",
       "    }\n",
       "</style>\n",
       "<table border=\"1\" class=\"dataframe\">\n",
       "  <thead>\n",
       "    <tr style=\"text-align: right;\">\n",
       "      <th></th>\n",
       "      <th>JD_Pronoun_Count</th>\n",
       "      <th>JD_Pronoun</th>\n",
       "    </tr>\n",
       "  </thead>\n",
       "  <tbody>\n",
       "    <tr>\n",
       "      <th>0</th>\n",
       "      <td>16</td>\n",
       "      <td>[Our, We, you, you, our, We, our, we, your, yo...</td>\n",
       "    </tr>\n",
       "    <tr>\n",
       "      <th>1</th>\n",
       "      <td>16</td>\n",
       "      <td>[our, You, You, your, You, You, You, our, it, ...</td>\n",
       "    </tr>\n",
       "    <tr>\n",
       "      <th>2</th>\n",
       "      <td>9</td>\n",
       "      <td>[our, we, them, them, we, its, Our, we, we, th...</td>\n",
       "    </tr>\n",
       "    <tr>\n",
       "      <th>3</th>\n",
       "      <td>13</td>\n",
       "      <td>[our, we, them, them, we, its, Our, we, we, We...</td>\n",
       "    </tr>\n",
       "  </tbody>\n",
       "</table>\n",
       "</div>"
      ],
      "text/plain": [
       "   JD_Pronoun_Count                                         JD_Pronoun\n",
       "0                16  [Our, We, you, you, our, We, our, we, your, yo...\n",
       "1                16  [our, You, You, your, You, You, You, our, it, ...\n",
       "2                 9  [our, we, them, them, we, its, Our, we, we, th...\n",
       "3                13  [our, we, them, them, we, its, Our, we, we, We..."
      ]
     },
     "execution_count": 122,
     "metadata": {},
     "output_type": "execute_result"
    }
   ],
   "source": [
    "jd['JD_Pronoun']=jd['desc'].apply(tokenize)\n",
    "jd['JD_Pronoun_Count']=jd['JD_Pronoun'].apply(check_pronoun)\n",
    "jd['JD_Pronoun']=jd['desc'].apply(tokenize)\n",
    "jd[['JD_Pronoun_Count','JD_Pronoun']]"
   ]
  },
  {
   "attachments": {},
   "cell_type": "markdown",
   "metadata": {},
   "source": [
    "__Observations__: \n",
    "\n",
    "1. Approximately 84% documents do not use direct pronouns\n",
    "2. The average number of direct pronouns used in the postings is ~0.8 which is way less as compared to the average number used in postings by companies like google. "
   ]
  },
  {
   "cell_type": "markdown",
   "metadata": {},
   "source": [
    "___Sentiment Analysis:___ Using nltk sentiment analyzer to identify the overall sentiment of the job posting"
   ]
  },
  {
   "cell_type": "code",
   "execution_count": 124,
   "metadata": {},
   "outputs": [],
   "source": [
    "sid = SentimentIntensityAnalyzer()"
   ]
  },
  {
   "cell_type": "code",
   "execution_count": 134,
   "metadata": {},
   "outputs": [],
   "source": [
    "def sentiment_analyzer(bulletins):\n",
    "    my_dict = {}\n",
    "    all_files = []\n",
    "    for i in range(len(bulletins)):\n",
    "        with open(path+bulletins[i],encoding=\"ISO-8859-1\") as f:\n",
    "            lines = f.readlines()\n",
    "            idx = 0\n",
    "            while len(lines[idx].rstrip(' \\n\\r\\t')) == 0:\n",
    "                    idx = idx + 1\n",
    "            key = lines[idx].rstrip('\\r\\n\\t')\n",
    "    \n",
    "        with open(path+bulletins[i],encoding=\"ISO-8859-1\") as f:\n",
    "            data=\"\".join(line.rstrip() for line in f)\n",
    "            sentiment_scores = sid.polarity_scores(data)\n",
    "            my_dict[key]= [sentiment_scores]\n",
    "    \n",
    "    a = my_dict\n",
    "    all_files.append(a)    \n",
    "    \n",
    "    df = pd.DataFrame(a).T.reset_index()\n",
    "    return df"
   ]
  },
  {
   "cell_type": "code",
   "execution_count": 135,
   "metadata": {},
   "outputs": [],
   "source": [
    "df_doc_scores = sentiment_analyzer(bulletins)\n",
    "df_doc_scores.columns = ['TITLE','Sentiment_scores']\n",
    "df_doc_scores[['Neg','Neutral','Positive','Compound']] = df_doc_scores.Sentiment_scores.apply(pd.Series)\n",
    "df_doc_scores.drop(columns='Sentiment_scores',axis=1,inplace=True)"
   ]
  },
  {
   "cell_type": "code",
   "execution_count": 137,
   "metadata": {},
   "outputs": [
    {
     "data": {
      "text/plain": [
       "<seaborn.axisgrid.FacetGrid at 0x1a288e45c0>"
      ]
     },
     "execution_count": 137,
     "metadata": {},
     "output_type": "execute_result"
    },
    {
     "data": {
      "image/png": "[encoded data removed]",
      "text/plain": [
       "<Figure size 360x360 with 1 Axes>"
      ]
     },
     "metadata": {
      "needs_background": "light"
     },
     "output_type": "display_data"
    }
   ],
   "source": [
    "sns.catplot(data=df_doc_scores,x='Neutral',kind = 'swarm')"
   ]
  },
  {
   "cell_type": "markdown",
   "metadata": {},
   "source": [
    "__Observation__: The overall sentiment of the posting seems to be neutral"
   ]
  },
  {
   "cell_type": "markdown",
   "metadata": {},
   "source": [
    "Part 2 :\n",
    "\n",
    "* b. Content: Content of the job postings can be analyzed based on following two parameters:\n",
    "    * i. Similarity:  It is necessary to avoid duplication of the information and be precise about the requirements. \n",
    "    * ii. Readability: “Readability” is a metric of how easy it is to comprehend text. Readability can be measured using multiple scores including Gunning-Fog Index, Flesch Kincaid score and Dale Chall index. More info : [here]\n",
    "    \n",
    "[here]: https://medium.com/@uistephen/what-is-readability-and-why-does-it-matter-7773d018e4b9"
   ]
  },
  {
   "attachments": {},
   "cell_type": "markdown",
   "metadata": {},
   "source": [
    "* __Tone__:\n",
    "\n",
    "___Similarity:___ Requirements, application process and duties are three important sections of a job posting. However, it is also important to avoid duplication in the content. Cosine similarity has been used to check for the similarity level between different sections. cosine similarity measures the cosine of the angle between two vectors projected in a multi-dimensional space."
   ]
  },
  {
   "cell_type": "code",
   "execution_count": 139,
   "metadata": {},
   "outputs": [],
   "source": [
    "df['REQUIREMENTS']=df['REQUIREMENTS'].apply(' '.join).str.rstrip(', ').str.lstrip(', ').str.lower()\n",
    "df['PROCESS NOTES']=df['PROCESS NOTES'].apply(' '.join).str.rstrip(', ').str.lstrip(', ').str.lower()\n",
    "df['DUTIES']=df['DUTIES'].apply(' '.join).str.rstrip(', ').str.lstrip(', ').str.lower()"
   ]
  },
  {
   "cell_type": "code",
   "execution_count": 140,
   "metadata": {},
   "outputs": [],
   "source": [
    "# Remove punc\n",
    "import string\n",
    "main=['REQUIREMENTS','PROCESS NOTES','DUTIES']\n",
    "\n",
    "def removePuncStr(s):\n",
    "    for c in string.punctuation:\n",
    "        #print (s)\n",
    "        s = s.replace(c,\" \")\n",
    "    return s\n",
    "\n",
    "def punc(a,df):\n",
    "    punc1=[]\n",
    "    for index, row in df.iterrows():\n",
    "            punc1.append(removePuncStr(row[str(a)]))\n",
    "    df[a]=punc1\n",
    "\n",
    "punc(\"REQUIREMENTS\",df)\n",
    "punc(\"PROCESS NOTES\",df)\n",
    "punc('DUTIES',df)"
   ]
  },
  {
   "cell_type": "code",
   "execution_count": 141,
   "metadata": {},
   "outputs": [],
   "source": [
    "### Remove stop works\n",
    "from nltk.corpus import stopwords\n",
    "from nltk.tokenize import word_tokenize\n",
    "\n",
    "def stopText(text_array):\n",
    "    stop_words = set(stopwords.words('english'))\n",
    "    words = word_tokenize(text_array)\n",
    "    h2 = ''\n",
    "    for w in words:\n",
    "        if w not in stop_words:\n",
    "                h2 = h2 + ' ' + w\n",
    "   \n",
    "    return h2\n",
    "\n",
    "def stopp(a,df):\n",
    "    punc1=[]\n",
    "    for index, row in df.iterrows():\n",
    "            punc1.append(stopText(row[str(a)]))\n",
    "    df[a]=punc1\n",
    "      \n",
    "stopp(\"REQUIREMENTS\",df)\n",
    "stopp(\"PROCESS NOTES\",df)\n",
    "stopp(\"DUTIES\",df)"
   ]
  },
  {
   "cell_type": "code",
   "execution_count": 142,
   "metadata": {},
   "outputs": [],
   "source": [
    "from nltk.stem import PorterStemmer\n",
    "from nltk.tokenize import sent_tokenize, word_tokenize\n",
    "\n",
    "def stemText(text_array):\n",
    "    stemmed_text = []\n",
    "    words = word_tokenize(text_array)\n",
    "    h2 = ''\n",
    "    for w in words:\n",
    "            h2 = h2 + ' ' + PorterStemmer().stem(w)\n",
    "            \n",
    "   \n",
    "    return h2\n",
    "\n",
    "def stemm(a,df):\n",
    "    punc1=[]\n",
    "    for index, row in df.iterrows():\n",
    "            punc1.append(stemText(row[str(a)]))\n",
    "    df[a]=punc1\n",
    "\n",
    "stemm(\"REQUIREMENTS\",df)\n",
    "stemm(\"PROCESS NOTES\",df)\n",
    "stemm(\"DUTIES\",df)"
   ]
  },
  {
   "cell_type": "code",
   "execution_count": 143,
   "metadata": {},
   "outputs": [],
   "source": [
    "import re, math\n",
    "from collections import Counter\n",
    "\n",
    "WORD = re.compile(r'\\w+')\n",
    "\n",
    "def get_cosine(vec1, vec2):\n",
    "                         intersection = set(vec1.keys()) & set(vec2.keys())\n",
    "                         numerator = sum([vec1[x] * vec2[x] for x in intersection])\n",
    "\n",
    "                         sum1 = sum([vec1[x]**2 for x in vec1.keys()])\n",
    "                         sum2 = sum([vec2[x]**2 for x in vec2.keys()])\n",
    "                         denominator = math.sqrt(sum1) * math.sqrt(sum2)\n",
    "\n",
    "                         if not denominator:\n",
    "                            return 0.0\n",
    "                         else:\n",
    "                            return float(numerator) / denominator\n",
    "\n",
    "def text_to_vector(text):\n",
    "             words = WORD.findall(text)\n",
    "             return Counter(words)\n",
    "\n",
    "def cosinee(a,b,df):\n",
    "    cos=[]\n",
    "    for index, row in df.iterrows():\n",
    "        text1 = row[str(a)]\n",
    "        text2 =row[str(b)]\n",
    "        #print (text1)\n",
    "\n",
    "        vector1 = text_to_vector(text1)\n",
    "        vector2 = text_to_vector(text2)\n",
    "\n",
    "        cosine = get_cosine(vector1, vector2)\n",
    "\n",
    "        cos.append(cosine)\n",
    "    df[a+'_'+b+'_COS']=cos"
   ]
  },
  {
   "cell_type": "code",
   "execution_count": 144,
   "metadata": {},
   "outputs": [],
   "source": [
    "cosinee('REQUIREMENTS','PROCESS NOTES',df)\n",
    "cosinee('REQUIREMENTS','DUTIES',df)\n",
    "cosinee('PROCESS NOTES','DUTIES',df)"
   ]
  },
  {
   "cell_type": "code",
   "execution_count": 145,
   "metadata": {},
   "outputs": [
    {
     "data": {
      "text/plain": [
       "<seaborn.axisgrid.FacetGrid at 0x1a2c8f6908>"
      ]
     },
     "execution_count": 145,
     "metadata": {},
     "output_type": "execute_result"
    },
    {
     "data": {
      "image/png": "[encoded data removed]",
      "text/plain": [
       "<Figure size 360x360 with 1 Axes>"
      ]
     },
     "metadata": {
      "needs_background": "light"
     },
     "output_type": "display_data"
    }
   ],
   "source": [
    "df['REQUIREMENTS_DUTIES_SIM']=(df['REQUIREMENTS_DUTIES_COS']<=0.25)*1\n",
    "sns.catplot(data=df,x='REQUIREMENTS_DUTIES_SIM',kind = 'count')"
   ]
  },
  {
   "cell_type": "code",
   "execution_count": 146,
   "metadata": {},
   "outputs": [
    {
     "data": {
      "text/plain": [
       "<seaborn.axisgrid.FacetGrid at 0x1a287bf550>"
      ]
     },
     "execution_count": 146,
     "metadata": {},
     "output_type": "execute_result"
    },
    {
     "data": {
      "image/png": "[encoded data removed]",
      "text/plain": [
       "<Figure size 360x360 with 1 Axes>"
      ]
     },
     "metadata": {
      "needs_background": "light"
     },
     "output_type": "display_data"
    }
   ],
   "source": [
    "df['REQUIREMENTS_PROCESS NOTES_SIM']=(df['REQUIREMENTS_PROCESS NOTES_COS']<=0.25)*1\n",
    "sns.catplot(data=df,x='REQUIREMENTS_PROCESS NOTES_SIM',kind = 'count')"
   ]
  },
  {
   "attachments": {},
   "cell_type": "markdown",
   "metadata": {},
   "source": [
    "__Observations__: Considering the threshold as 0.25 i.e. a similarity of greater than 0.25 indicates high amount of replication. Therefore 73% of these sections are very similar. Hence duplicated information is present in these descriptions.\n"
   ]
  },
  {
   "cell_type": "markdown",
   "metadata": {},
   "source": [
    "___Readability:___ As explained earlier, readability indicates the comprehensibility of a posting. Scores for readability of the entire document and important sections have been computed. We use following three metrices:\n",
    "1. Flesch Kincaid Score: The Flesch Reading Ease Score and the Flesch-Kincaid Grade Level also use counts of words, syllables, and sentences.[More Info] The Flesch Reading Ease Score is defined as\n",
    "\n",
    "$$\n",
    "206.835−1.015 \\cdot \\frac{\\#words}{\\#sentences} − 84.6 \\cdot \\frac{\\#syllables}{\\#words}\n",
    "$$ \n",
    "\n",
    "With a range of 90-100 easily accessible by a 11-year old, 60-70 being easy to understand for 13-15 year olds, and 0-30 for university graduates.\n",
    "\n",
    "2. Gunning Fog: Gunning (1952) developed the Fog index. The index estimates the years of formal education needed to understand text on a first reading. A fog index of 12 requires the reading level of a U.S. high school senior (around 18 years old). The index is based on the idea that poor readability is associated with longer sentences and complex words. Complex words are those that have more than two syllables. The formula for the Fog index is\n",
    "\n",
    "$$\n",
    "0.4 \\left[\\frac{\\#words}{\\#sentences} + 100 \\cdot \\frac{\\#complex words}{\\#words} \\right]\n",
    "$$\n",
    " \n",
    "3. Dale Chall: DC index is based on a list of 3000 words that groups of fourth-grade American students could reliably understand. It considers any word that is not on that list to be difficult. [Info]\n",
    "\n",
    "[More info]: http://en.wikipedia.org/wiki/Flesch-Kincaid_readability_tests\n",
    "[Info]: https://en.wikipedia.org/wiki/Dale–Chall_readability_formula"
   ]
  },
  {
   "cell_type": "code",
   "execution_count": 147,
   "metadata": {},
   "outputs": [],
   "source": [
    "def get_scores_test1(bulletins):\n",
    "    my_dict = {}\n",
    "    all_files = []\n",
    "    for i in range(len(bulletins)):\n",
    "        with open(path+bulletins[i],encoding=\"ISO-8859-1\") as f:\n",
    "            lines = f.readlines()\n",
    "            idx = 0\n",
    "            while len(lines[idx].rstrip(' \\n\\r\\t')) == 0:\n",
    "                    idx = idx + 1\n",
    "            key = lines[idx].rstrip('\\r\\n\\t')\n",
    "            \n",
    "        with open(path+bulletins[i],encoding=\"ISO-8859-1\") as f:\n",
    "            data=\"\".join(line.rstrip() for line in f)\n",
    "            sentiment_scores = sid.polarity_scores(data)\n",
    "            r = Readability(data)\n",
    "            fk = r.flesch_kincaid()\n",
    "            fr = r.flesch()\n",
    "            dc = r.dale_chall()\n",
    "            ari = r.ari()\n",
    "            gf = r.gunning_fog()\n",
    "            my_dict[key]= [sentiment_scores,fk.grade_level,fr.score,fr.ease,\n",
    "                                    dc.grade_levels,ari.grade_levels,gf.grade_level]\n",
    "    a = my_dict\n",
    "    all_files.append(a)\n",
    "\n",
    "    df = pd.DataFrame(a).T.reset_index()\n",
    "    return df"
   ]
  },
  {
   "cell_type": "code",
   "execution_count": 148,
   "metadata": {},
   "outputs": [],
   "source": [
    "df_doc_scores = get_scores_test1(bulletins)"
   ]
  },
  {
   "cell_type": "code",
   "execution_count": 149,
   "metadata": {},
   "outputs": [],
   "source": [
    "df_doc_scores.columns = ['TITLE','Sentiment_scores', 'FK_GLevel','FE_score','FE_ease','DC_GLevel','ARI_GLevel',\\\n",
    "               'GF_GLevel']\n",
    "\n",
    "df_doc_scores[['Neg','Neutral','Positive','Compound']] = df_doc_scores.Sentiment_scores.apply(pd.Series)\n",
    "df_doc_scores.drop(columns='Sentiment_scores',axis=1,inplace=True)"
   ]
  },
  {
   "cell_type": "code",
   "execution_count": 155,
   "metadata": {},
   "outputs": [
    {
     "data": {
      "text/plain": [
       "<seaborn.axisgrid.FacetGrid at 0x1a27c96668>"
      ]
     },
     "execution_count": 155,
     "metadata": {},
     "output_type": "execute_result"
    },
    {
     "data": {
      "image/png": "[encoded data removed]",
      "text/plain": [
       "<Figure size 360x360 with 1 Axes>"
      ]
     },
     "metadata": {
      "needs_background": "light"
     },
     "output_type": "display_data"
    }
   ],
   "source": [
    "df_doc_scores.FE_ease.value_counts()\n",
    "sns.catplot(data=df_doc_scores,x='FE_ease',kind = 'count')"
   ]
  },
  {
   "cell_type": "code",
   "execution_count": 158,
   "metadata": {},
   "outputs": [
    {
     "data": {
      "text/plain": [
       "<seaborn.axisgrid.FacetGrid at 0x1a2c8ef828>"
      ]
     },
     "execution_count": 158,
     "metadata": {},
     "output_type": "execute_result"
    },
    {
     "data": {
      "image/png": "[encoded data removed]",
      "text/plain": [
       "<Figure size 360x360 with 1 Axes>"
      ]
     },
     "metadata": {
      "needs_background": "light"
     },
     "output_type": "display_data"
    }
   ],
   "source": [
    "df_doc_scores.DC_GLevel.value_counts()\n",
    "df_doc_scores['GF_GLevel'] = df_doc_scores['GF_GLevel'].astype(str)\n",
    "df_doc_scores['DC_GLevel'] = df_doc_scores['DC_GLevel'].astype(str)\n",
    "sns.catplot(data=df_doc_scores,x='DC_GLevel',kind = 'count')"
   ]
  },
  {
   "cell_type": "code",
   "execution_count": 159,
   "metadata": {},
   "outputs": [
    {
     "data": {
      "text/plain": [
       "<seaborn.axisgrid.FacetGrid at 0x1a276ef940>"
      ]
     },
     "execution_count": 159,
     "metadata": {},
     "output_type": "execute_result"
    },
    {
     "data": {
      "image/png": "[encoded data removed]",
      "text/plain": [
       "<Figure size 540x360 with 1 Axes>"
      ]
     },
     "metadata": {
      "needs_background": "light"
     },
     "output_type": "display_data"
    }
   ],
   "source": [
    "sns.catplot(data=df_doc_scores,x='GF_GLevel',kind = 'count',aspect=1.5,order=['8','9','10','11','12','college','college_graduate',])"
   ]
  },
  {
   "attachments": {},
   "cell_type": "markdown",
   "metadata": {},
   "source": [
    "__Observations__: \n",
    "1. Flesch Kincaid and and Dale Chall indicate that approximately 92% of the JD are difficult to understand.\n",
    "2. Gunning Fog has established similar findings indicating more than 90% of JD require a grade level of high school graduate."
   ]
  },
  {
   "cell_type": "markdown",
   "metadata": {},
   "source": [
    "Section wise readability:"
   ]
  },
  {
   "cell_type": "code",
   "execution_count": 152,
   "metadata": {},
   "outputs": [],
   "source": [
    "def readability_scores(stringed):\n",
    "    flesch_score=0\n",
    "    flesch_grade=0\n",
    "    automated_readability=0\n",
    "    dale_chall=0\n",
    "    gunning_fog=0\n",
    "    flesch_score=textstat.flesch_reading_ease(stringed)\n",
    "    flesch_grade=textstat.flesch_kincaid_grade(stringed)\n",
    "    automated_readability=textstat.automated_readability_index(stringed)\n",
    "    dale_chall=textstat.dale_chall_readability_score(stringed)\n",
    "    gunning_fog=textstat.gunning_fog(stringed)\n",
    "    return [flesch_score,flesch_grade,automated_readability,dale_chall,gunning_fog]"
   ]
  },
  {
   "cell_type": "code",
   "execution_count": 160,
   "metadata": {},
   "outputs": [],
   "source": [
    "df['REQ_MERGED_SCORES']=df.REQ_MERGED.apply(lambda x: readability_scores(str(x)))\n",
    "df[['flesch_score_reqm','flesch_grade_reqm','automated_readability_reqm','dale_chall_reqm','gunning_fog_reqm']] = \\\n",
    "pd.DataFrame(df.REQ_MERGED_SCORES.values.tolist(), index= df.index)"
   ]
  },
  {
   "cell_type": "code",
   "execution_count": 161,
   "metadata": {},
   "outputs": [],
   "source": [
    "df['dale_chall_reqm_bm']=(df.dale_chall_reqm < 8) * 1 +\\\n",
    "((df.dale_chall_reqm >= 8) & (df.dale_chall_reqm <= 10)) * 0.5 + (df.dale_chall_reqm >10) * 0\n",
    "\n",
    "df['dale_chall_reqm_bm'].value_counts()\n",
    "\n",
    "df['dale_chall_reqm_bm_label']=\\\n",
    "df['dale_chall_reqm_bm'].apply(lambda x: 'Easy' if x==1 else ('Moderate' if x==0.5 else 'Difficult'))"
   ]
  },
  {
   "cell_type": "code",
   "execution_count": 162,
   "metadata": {},
   "outputs": [
    {
     "data": {
      "text/plain": [
       "<seaborn.axisgrid.FacetGrid at 0x1a2cc59390>"
      ]
     },
     "execution_count": 162,
     "metadata": {},
     "output_type": "execute_result"
    },
    {
     "data": {
      "image/png": "[encoded data removed]",
      "text/plain": [
       "<Figure size 360x360 with 1 Axes>"
      ]
     },
     "metadata": {
      "needs_background": "light"
     },
     "output_type": "display_data"
    }
   ],
   "source": [
    "sns.catplot(data=df,x='dale_chall_reqm_bm_label',kind='count')"
   ]
  },
  {
   "cell_type": "markdown",
   "metadata": {},
   "source": [
    "LABELLING : Threshold - higher than 15th grade is bad , 10th to 15th grade Moderate "
   ]
  },
  {
   "attachments": {},
   "cell_type": "markdown",
   "metadata": {},
   "source": [
    "__Observation__: ~26% of Requirement & are difficult to read based on Dale Chall Readabilty Score \n"
   ]
  },
  {
   "cell_type": "markdown",
   "metadata": {},
   "source": [
    "Merging and computing scores:"
   ]
  },
  {
   "cell_type": "markdown",
   "metadata": {},
   "source": [
    "Combining the dataframe to create a master dataframe that combines feature computed at document level and features created using the dataframe"
   ]
  },
  {
   "cell_type": "code",
   "execution_count": 166,
   "metadata": {},
   "outputs": [],
   "source": [
    "df_merged = pd.merge(df,df_doc_scores,on = \"TITLE\", how= 'left')\n",
    "df_merged = pd.merge(df_merged,df_doc_counts,on = \"TITLE\", how= 'left')"
   ]
  },
  {
   "cell_type": "code",
   "execution_count": 168,
   "metadata": {},
   "outputs": [
    {
     "data": {
      "image/png": "[encoded data removed]",
      "text/plain": [
       "<Figure size 1080x360 with 1 Axes>"
      ]
     },
     "metadata": {
      "needs_background": "light"
     },
     "output_type": "display_data"
    }
   ],
   "source": [
    "df_merged['Prop_counts'] = (df_merged['REQ_MERGED_WORDCOUNT'] / df_merged['WORD_COUNT'])\n",
    "df_merged_1=df_merged.copy()\n",
    "df_merged_1['Prop_counts_binned'] = pd.cut(df_merged_1['Prop_counts'],bins=[0.1,0.2,0.3,0.4,0.5,0.6,0.7,0.8])\n",
    "sns.catplot(data=df_merged_1,x=\"Prop_counts_binned\",kind=\"count\",aspect=3)\n",
    "\n",
    "df_merged['Prop_counts_labels'] = (df_merged['Prop_counts'] > 0.25) * 1"
   ]
  },
  {
   "cell_type": "markdown",
   "metadata": {},
   "source": [
    "Creating a score for each of the posting. The score is created using the labels of the features created. It ranges from 0 - 12"
   ]
  },
  {
   "cell_type": "code",
   "execution_count": 183,
   "metadata": {},
   "outputs": [],
   "source": [
    "df_merged['SCORE'] = df_merged['REQ_EXP_YEARS'] + df_merged['Annual_Salary_Present']  + df_merged['FULL/PART'] + df_merged['SCHOOL_PRESENT'] + df_merged['dale_chall_reqm_bm'] + df_merged['REQ_Pronoun_Exists'] + df_merged['SpellErrorLabel'] + df_merged['DocWordCountLabel'] + df_merged['Prop_counts_labels'] + df_merged['REQUIREMENTS_DUTIES_SIM'] + df_merged['REQUIREMENTS_PROCESS NOTES_SIM']"
   ]
  },
  {
   "cell_type": "code",
   "execution_count": 184,
   "metadata": {},
   "outputs": [
    {
     "data": {
      "text/plain": [
       "4.5    169\n",
       "3.5    145\n",
       "4.0     85\n",
       "5.5     73\n",
       "5.0     67\n",
       "2.5     58\n",
       "3.0     51\n",
       "2.0     11\n",
       "1.5     11\n",
       "6.0      9\n",
       "6.5      3\n",
       "7.0      1\n",
       "1.0      1\n",
       "Name: SCORE, dtype: int64"
      ]
     },
     "execution_count": 184,
     "metadata": {},
     "output_type": "execute_result"
    }
   ],
   "source": [
    "df_merged.SCORE.value_counts()"
   ]
  },
  {
   "cell_type": "markdown",
   "metadata": {},
   "source": [
    "Based on the score, the postings can now be grouped as good vs need improvement. The highest score any job posting has received is 6. So an indicator is created considering all postings with score >= 7 as good ones amongst the pool and others as need more improvement"
   ]
  },
  {
   "cell_type": "code",
   "execution_count": 189,
   "metadata": {},
   "outputs": [],
   "source": [
    "df_merged['Better_JD'] = (df_merged.LABELS >= 6.0) * 1 "
   ]
  },
  {
   "cell_type": "code",
   "execution_count": 190,
   "metadata": {},
   "outputs": [
    {
     "data": {
      "text/plain": [
       "0    671\n",
       "1     13\n",
       "Name: Better_JD, dtype: int64"
      ]
     },
     "execution_count": 190,
     "metadata": {},
     "output_type": "execute_result"
    }
   ],
   "source": [
    "df_merged['Better_JD'].value_counts()"
   ]
  },
  {
   "cell_type": "markdown",
   "metadata": {},
   "source": [
    "__Conclusion and Recommendations__:"
   ]
  },
  {
   "cell_type": "markdown",
   "metadata": {},
   "source": [
    "Based on the preliminary analysis, following recommendations can be provided to the city of LA which can be the first steps to improve the job postings:"
   ]
  },
  {
   "attachments": {},
   "cell_type": "markdown",
   "metadata": {},
   "source": [
    "1. Increase the readability based on the target applicants (Job-type, Education level)\n",
    "2. Avoid duplication of information\n",
    "3. Speak directly to candidates\n",
    "4. Increase the availability of a job posting (in terms of duration)\n",
    "5. Avoid spelling errors\n",
    "6. Increase the proportion of highly relevant sections (Requirements, Selection Process)\n",
    "7. Reduce the length of job description (< than 600-700)\n",
    "8. Separate sections for important information/requirement (education)"
   ]
  },
  {
   "cell_type": "markdown",
   "metadata": {},
   "source": [
    "__Extension:__"
   ]
  },
  {
   "cell_type": "markdown",
   "metadata": {},
   "source": [
    "* 1. Few ways in which the preliminary analysis can be extended:\n",
    "    * a. To check using pronouns if there is gender bias in the postings which is discouraging candidates to apply \n",
    "    * b. Look for most frequent words (probable methods: Word 2 Vec and TSNE) used in the postings, specifically     in the requirements/duties section and compare it with ones used by some other companies\n",
    "    * c. Modelling to find most dominant/ commmon topic if any using LDA \n",
    "    * d. Building an algorithm to score the job descriptions so that whenever a new posting is posted, it can   first be validated, scored and improved if required.\n"
   ]
  }
 ],
 "metadata": {
  "kernelspec": {
   "display_name": "Python 3",
   "language": "python",
   "name": "python3"
  },
  "language_info": {
   "codemirror_mode": {
    "name": "ipython",
    "version": 3
   },
   "file_extension": ".py",
   "mimetype": "text/x-python",
   "name": "python",
   "nbconvert_exporter": "python",
   "pygments_lexer": "ipython3",
   "version": "3.7.1"
  }
 },
 "nbformat": 4,
 "nbformat_minor": 2
}
